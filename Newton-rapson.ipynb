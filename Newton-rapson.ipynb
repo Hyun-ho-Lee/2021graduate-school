{
 "cells": [
  {
   "cell_type": "code",
   "execution_count": null,
   "metadata": {},
   "outputs": [],
   "source": [
    "from sympy import Symbol, sympify, diff\n",
    "x=Symbol('x')\n",
    "y=Symbol('y')\n",
    " \n",
    "maxiter=100\n",
    "tol=0.0001\n",
    "expr=sympify(input('방정식을 입력하세요:'))\n",
    "dexpr=diff(expr)\n",
    "x0=float(input('초기값 x0 :'))\n",
    "\n",
    "for i in range(1, maxiter):\n",
    "    f=expr.subs(x,x0)\n",
    "    df=dexpr.subs(x,x0)\n",
    "    temp_x = x0 - f/df\n",
    "    err=abs(temp_x - x0)\n",
    "    if err < tol:\n",
    "        print(temp_x, i)\n",
    "        break\n",
    "    else:\n",
    "        x0=temp_x"
   ]
  }
 ],
 "metadata": {
  "kernelspec": {
   "display_name": "Python 3",
   "language": "python",
   "name": "python3"
  },
  "language_info": {
   "codemirror_mode": {
    "name": "ipython",
    "version": 3
   },
   "file_extension": ".py",
   "mimetype": "text/x-python",
   "name": "python",
   "nbconvert_exporter": "python",
   "pygments_lexer": "ipython3",
   "version": "3.8.5"
  }
 },
 "nbformat": 4,
 "nbformat_minor": 4
}
