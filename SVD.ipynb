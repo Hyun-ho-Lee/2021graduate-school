{
 "cells": [
  {
   "cell_type": "markdown",
   "metadata": {},
   "source": [
    "# 특이값 분해 "
   ]
  },
  {
   "cell_type": "code",
   "execution_count": 4,
   "metadata": {},
   "outputs": [],
   "source": [
    "import numpy as np\n",
    "from numpy.linalg import svd"
   ]
  },
  {
   "cell_type": "code",
   "execution_count": 18,
   "metadata": {},
   "outputs": [
    {
     "name": "stdout",
     "output_type": "stream",
     "text": [
      "[[  1.2   1.    0.    3.4  11.4   2. ]\n",
      " [  1.6   1.    0.   -8.3 -11.4   2. ]\n",
      " [  1.8   1.    0.    9.1  23.8   2. ]\n",
      " [  2.4   0.    1.    4.   14.8   2. ]\n",
      " [  9.3   0.    1.    4.   28.6   2. ]\n",
      " [  8.1   0.    1.    4.   26.2   2. ]\n",
      " [  3.2   0.    1.    4.   16.4   2. ]]\n"
     ]
    }
   ],
   "source": [
    "a= np.matrix('1.2,1,0,3.4,11.4,2; 1.6,1,0,-8.3,-11.4,2 ; 1.8,1,0,9.1,23.8,2;2.4,0,1,4,14.8,2;,9.3,0,1,4,28.6,2;,8.1,0,1,4,26.2,2;3.2,0,1,4,16.4,2')\n",
    "print(a)"
   ]
  },
  {
   "cell_type": "code",
   "execution_count": 13,
   "metadata": {},
   "outputs": [
    {
     "name": "stdout",
     "output_type": "stream",
     "text": [
      "(7, 7) (6,) (6, 6)\n"
     ]
    }
   ],
   "source": [
    "U, Sigma, Vt = svd(a)\n",
    "print(U.shape, Sigma.shape, Vt.shape)"
   ]
  },
  {
   "cell_type": "code",
   "execution_count": 19,
   "metadata": {
    "scrolled": true
   },
   "outputs": [
    {
     "name": "stdout",
     "output_type": "stream",
     "text": [
      "V trans matrix:\n",
      " [[-0.214  0.105 -0.496  0.247  0.797 -0.   ]\n",
      " [ 0.219 -0.705 -0.614  0.101 -0.262  0.   ]\n",
      " [-0.45   0.444 -0.373  0.413 -0.539  0.   ]\n",
      " [-0.279  0.057 -0.253 -0.645 -0.04   0.646]\n",
      " [-0.537 -0.421  0.307  0.199  0.041  0.254]\n",
      " [-0.492 -0.338  0.21   0.052  0.027 -0.211]\n",
      " [-0.309  0.001 -0.188 -0.547 -0.031 -0.689]]\n",
      "Sigma Value:\n",
      " [5.6029e+01 1.0200e+01 3.3820e+00 1.2750e+00 5.1000e-02 0.0000e+00]\n",
      "U  matrix:\n",
      " [[-0.203 -0.008 -0.029 -0.234 -0.948 -0.074]\n",
      " [-0.659 -0.015 -0.069  0.73  -0.024 -0.168]\n",
      " [ 0.325 -0.438  0.022  0.094 -0.025 -0.832]\n",
      " [ 0.132  0.597 -0.739 -0.003  0.012 -0.284]\n",
      " [-0.634 -0.082 -0.061 -0.636  0.317 -0.287]\n",
      " [ 0.    -0.667 -0.667  0.    -0.     0.333]]\n"
     ]
    }
   ],
   "source": [
    "print('V trans matrix:\\n',np.round(U, 3))\n",
    "print('Sigma Value:\\n',np.round(Sigma, 3))\n",
    "print('U  matrix:\\n',np.round(Vt, 3))"
   ]
  },
  {
   "cell_type": "markdown",
   "metadata": {},
   "source": [
    "# 원본 행렬로 복원하기 위해서 sigma (문제에서는 D) 를  0을 포함한 대각행렬화"
   ]
  },
  {
   "cell_type": "code",
   "execution_count": 26,
   "metadata": {},
   "outputs": [
    {
     "name": "stdout",
     "output_type": "stream",
     "text": [
      "[[5.60289592e+01 0.00000000e+00 0.00000000e+00 0.00000000e+00\n",
      "  0.00000000e+00 0.00000000e+00]\n",
      " [0.00000000e+00 1.02003334e+01 0.00000000e+00 0.00000000e+00\n",
      "  0.00000000e+00 0.00000000e+00]\n",
      " [0.00000000e+00 0.00000000e+00 3.38227431e+00 0.00000000e+00\n",
      "  0.00000000e+00 0.00000000e+00]\n",
      " [0.00000000e+00 0.00000000e+00 0.00000000e+00 1.27537495e+00\n",
      "  0.00000000e+00 0.00000000e+00]\n",
      " [0.00000000e+00 0.00000000e+00 0.00000000e+00 0.00000000e+00\n",
      "  5.07109142e-02 0.00000000e+00]\n",
      " [0.00000000e+00 0.00000000e+00 0.00000000e+00 0.00000000e+00\n",
      "  0.00000000e+00 3.28479132e-16]]\n",
      "[[  1.2   1.    0.    3.4  11.4   2. ]\n",
      " [  1.6   1.    0.   -8.3 -11.4   2. ]\n",
      " [  1.8   1.    0.    9.1  23.8   2. ]\n",
      " [  2.4   0.    1.    4.   14.8   2. ]\n",
      " [  9.3   0.    1.    4.   28.6   2. ]\n",
      " [  8.1   0.    1.    4.   26.2   2. ]\n",
      " [  3.2   0.    1.    4.   16.4   2. ]]\n"
     ]
    }
   ],
   "source": [
    "Sigma_mat = np.diag(Sigma)\n",
    "print(Sigma_mat)\n",
    "a_ = np.dot(np.dot(U, Sigma_mat), Vt)\n",
    "print(a)"
   ]
  }
 ],
 "metadata": {
  "kernelspec": {
   "display_name": "Python 3",
   "language": "python",
   "name": "python3"
  },
  "language_info": {
   "codemirror_mode": {
    "name": "ipython",
    "version": 3
   },
   "file_extension": ".py",
   "mimetype": "text/x-python",
   "name": "python",
   "nbconvert_exporter": "python",
   "pygments_lexer": "ipython3",
   "version": "3.8.5"
  }
 },
 "nbformat": 4,
 "nbformat_minor": 4
}
